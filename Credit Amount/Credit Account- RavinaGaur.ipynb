{
 "cells": [
  {
   "cell_type": "markdown",
   "metadata": {},
   "source": [
    "## Predict Credit Amount"
   ]
  },
  {
   "cell_type": "markdown",
   "metadata": {},
   "source": [
    "### Objective- \n",
    "\n",
    "The objective of the problem is to predict the values of credit_amount variable as per serial number variable. Please view the sample submissions file for better understanding. The solution must be presented in the form of a csv with predicted values of the response variable credit_amount along with it’s corresponding serial number.\n",
    "Evaluation Metric : Normalized root mean squared error. The score is calculated by (1-rmse/normalization factor)*100.\n",
    "Submission Limit: . Please note that individual submission limits 10\n"
   ]
  },
  {
   "cell_type": "markdown",
   "metadata": {},
   "source": [
    "### 1. Dataset Preparation"
   ]
  },
  {
   "cell_type": "markdown",
   "metadata": {},
   "source": [
    "### 1.1 Import"
   ]
  },
  {
   "cell_type": "code",
   "execution_count": 3,
   "metadata": {},
   "outputs": [],
   "source": [
    "#import all the necessary libraries\n",
    "\n",
    "import pandas as pd\n",
    "import numpy as np\n",
    "import pandas as pd\n",
    "\n",
    "# For Visualisation\n",
    "import matplotlib.pyplot as plt\n",
    "import seaborn as sns"
   ]
  },
  {
   "cell_type": "markdown",
   "metadata": {},
   "source": [
    "### 1.2 Reading Data file"
   ]
  },
  {
   "cell_type": "code",
   "execution_count": 4,
   "metadata": {},
   "outputs": [],
   "source": [
    "#Let's read the dataset first\n",
    "train = pd.read_csv(\"/Users/rgaur/Downloads/Bank_Account/train.csv\")\n",
    "test = pd.read_csv(\"/Users/rgaur/Downloads/Bank_Account/test.csv\")\n"
   ]
  },
  {
   "cell_type": "code",
   "execution_count": 5,
   "metadata": {},
   "outputs": [],
   "source": [
    "# Save the 'serial number' column\n",
    "train_sn = train['serial number']\n",
    "test_sn = test['serial number']\n",
    "\n",
    "# Now drop the 'serial number' column since it's unnecessary for the prediction process.\n",
    "train.drop(\"serial number\", axis = 1, inplace = True)\n",
    "test.drop(\"serial number\", axis = 1, inplace = True)"
   ]
  },
  {
   "cell_type": "markdown",
   "metadata": {},
   "source": [
    "### 1.3 Data Inspection"
   ]
  },
  {
   "cell_type": "code",
   "execution_count": 6,
   "metadata": {},
   "outputs": [
    {
     "data": {
      "text/plain": [
       "(700, 24)"
      ]
     },
     "execution_count": 6,
     "metadata": {},
     "output_type": "execute_result"
    }
   ],
   "source": [
    "train.shape\n"
   ]
  },
  {
   "cell_type": "code",
   "execution_count": 7,
   "metadata": {},
   "outputs": [
    {
     "data": {
      "text/plain": [
       "(300, 23)"
      ]
     },
     "execution_count": 7,
     "metadata": {},
     "output_type": "execute_result"
    }
   ],
   "source": [
    "test.shape"
   ]
  },
  {
   "cell_type": "code",
   "execution_count": 8,
   "metadata": {},
   "outputs": [
    {
     "data": {
      "text/html": [
       "<div>\n",
       "<style scoped>\n",
       "    .dataframe tbody tr th:only-of-type {\n",
       "        vertical-align: middle;\n",
       "    }\n",
       "\n",
       "    .dataframe tbody tr th {\n",
       "        vertical-align: top;\n",
       "    }\n",
       "\n",
       "    .dataframe thead th {\n",
       "        text-align: right;\n",
       "    }\n",
       "</style>\n",
       "<table border=\"1\" class=\"dataframe\">\n",
       "  <thead>\n",
       "    <tr style=\"text-align: right;\">\n",
       "      <th></th>\n",
       "      <th>account_info</th>\n",
       "      <th>duration_month</th>\n",
       "      <th>Loan</th>\n",
       "      <th>Regularity</th>\n",
       "      <th>Purpose</th>\n",
       "      <th>credit_amount</th>\n",
       "      <th>savings_account</th>\n",
       "      <th>Saving Account</th>\n",
       "      <th>employment_st</th>\n",
       "      <th>Salary</th>\n",
       "      <th>...</th>\n",
       "      <th>resident_since</th>\n",
       "      <th>property_type</th>\n",
       "      <th>age</th>\n",
       "      <th>installment_type</th>\n",
       "      <th>housing_type</th>\n",
       "      <th>credits_no</th>\n",
       "      <th>job_type</th>\n",
       "      <th>liables</th>\n",
       "      <th>telephone</th>\n",
       "      <th>foreigner</th>\n",
       "    </tr>\n",
       "  </thead>\n",
       "  <tbody>\n",
       "    <tr>\n",
       "      <th>0</th>\n",
       "      <td>BRONZE</td>\n",
       "      <td>6</td>\n",
       "      <td>YES</td>\n",
       "      <td>NO</td>\n",
       "      <td>A40</td>\n",
       "      <td>1169</td>\n",
       "      <td>A65</td>\n",
       "      <td>NaN</td>\n",
       "      <td>A75</td>\n",
       "      <td>852</td>\n",
       "      <td>...</td>\n",
       "      <td>4</td>\n",
       "      <td>A121</td>\n",
       "      <td>67</td>\n",
       "      <td>A143</td>\n",
       "      <td>A152</td>\n",
       "      <td>2</td>\n",
       "      <td>A173</td>\n",
       "      <td>1</td>\n",
       "      <td>A192</td>\n",
       "      <td>A201</td>\n",
       "    </tr>\n",
       "    <tr>\n",
       "      <th>1</th>\n",
       "      <td>SILVER</td>\n",
       "      <td>48</td>\n",
       "      <td>YES</td>\n",
       "      <td>YES</td>\n",
       "      <td>A40</td>\n",
       "      <td>5951</td>\n",
       "      <td>A61</td>\n",
       "      <td>72.0</td>\n",
       "      <td>A73</td>\n",
       "      <td>2400</td>\n",
       "      <td>...</td>\n",
       "      <td>2</td>\n",
       "      <td>A121</td>\n",
       "      <td>22</td>\n",
       "      <td>A143</td>\n",
       "      <td>A152</td>\n",
       "      <td>1</td>\n",
       "      <td>A173</td>\n",
       "      <td>1</td>\n",
       "      <td>A191</td>\n",
       "      <td>A201</td>\n",
       "    </tr>\n",
       "    <tr>\n",
       "      <th>2</th>\n",
       "      <td>NaN</td>\n",
       "      <td>12</td>\n",
       "      <td>YES</td>\n",
       "      <td>NO</td>\n",
       "      <td>A46</td>\n",
       "      <td>2096</td>\n",
       "      <td>A61</td>\n",
       "      <td>68.0</td>\n",
       "      <td>A74</td>\n",
       "      <td>2078</td>\n",
       "      <td>...</td>\n",
       "      <td>3</td>\n",
       "      <td>A121</td>\n",
       "      <td>49</td>\n",
       "      <td>A143</td>\n",
       "      <td>A152</td>\n",
       "      <td>1</td>\n",
       "      <td>A172</td>\n",
       "      <td>2</td>\n",
       "      <td>A191</td>\n",
       "      <td>A201</td>\n",
       "    </tr>\n",
       "    <tr>\n",
       "      <th>3</th>\n",
       "      <td>BRONZE</td>\n",
       "      <td>42</td>\n",
       "      <td>YES</td>\n",
       "      <td>YES</td>\n",
       "      <td>A40</td>\n",
       "      <td>7882</td>\n",
       "      <td>A61</td>\n",
       "      <td>73.0</td>\n",
       "      <td>A74</td>\n",
       "      <td>2380</td>\n",
       "      <td>...</td>\n",
       "      <td>4</td>\n",
       "      <td>A122</td>\n",
       "      <td>45</td>\n",
       "      <td>A143</td>\n",
       "      <td>A153</td>\n",
       "      <td>1</td>\n",
       "      <td>A173</td>\n",
       "      <td>2</td>\n",
       "      <td>A191</td>\n",
       "      <td>A201</td>\n",
       "    </tr>\n",
       "    <tr>\n",
       "      <th>4</th>\n",
       "      <td>BRONZE</td>\n",
       "      <td>24</td>\n",
       "      <td>YES</td>\n",
       "      <td>NO</td>\n",
       "      <td>A40</td>\n",
       "      <td>4870</td>\n",
       "      <td>A61</td>\n",
       "      <td>52.0</td>\n",
       "      <td>A73</td>\n",
       "      <td>1756</td>\n",
       "      <td>...</td>\n",
       "      <td>4</td>\n",
       "      <td>A124</td>\n",
       "      <td>53</td>\n",
       "      <td>A143</td>\n",
       "      <td>A153</td>\n",
       "      <td>2</td>\n",
       "      <td>A173</td>\n",
       "      <td>2</td>\n",
       "      <td>A191</td>\n",
       "      <td>A201</td>\n",
       "    </tr>\n",
       "  </tbody>\n",
       "</table>\n",
       "<p>5 rows × 24 columns</p>\n",
       "</div>"
      ],
      "text/plain": [
       "  account_info  duration_month Loan Regularity Purpose  credit_amount  \\\n",
       "0       BRONZE               6  YES         NO     A40           1169   \n",
       "1       SILVER              48  YES        YES     A40           5951   \n",
       "2          NaN              12  YES         NO     A46           2096   \n",
       "3       BRONZE              42  YES        YES     A40           7882   \n",
       "4       BRONZE              24  YES         NO     A40           4870   \n",
       "\n",
       "  savings_account  Saving Account employment_st  Salary  ...  resident_since  \\\n",
       "0             A65             NaN           A75     852  ...               4   \n",
       "1             A61            72.0           A73    2400  ...               2   \n",
       "2             A61            68.0           A74    2078  ...               3   \n",
       "3             A61            73.0           A74    2380  ...               4   \n",
       "4             A61            52.0           A73    1756  ...               4   \n",
       "\n",
       "  property_type age installment_type  housing_type credits_no  job_type  \\\n",
       "0          A121  67             A143          A152          2      A173   \n",
       "1          A121  22             A143          A152          1      A173   \n",
       "2          A121  49             A143          A152          1      A172   \n",
       "3          A122  45             A143          A153          1      A173   \n",
       "4          A124  53             A143          A153          2      A173   \n",
       "\n",
       "  liables telephone  foreigner  \n",
       "0       1      A192       A201  \n",
       "1       1      A191       A201  \n",
       "2       2      A191       A201  \n",
       "3       2      A191       A201  \n",
       "4       2      A191       A201  \n",
       "\n",
       "[5 rows x 24 columns]"
      ]
     },
     "execution_count": 8,
     "metadata": {},
     "output_type": "execute_result"
    }
   ],
   "source": [
    "train.head()"
   ]
  },
  {
   "cell_type": "code",
   "execution_count": 9,
   "metadata": {
    "scrolled": true
   },
   "outputs": [
    {
     "data": {
      "text/html": [
       "<div>\n",
       "<style scoped>\n",
       "    .dataframe tbody tr th:only-of-type {\n",
       "        vertical-align: middle;\n",
       "    }\n",
       "\n",
       "    .dataframe tbody tr th {\n",
       "        vertical-align: top;\n",
       "    }\n",
       "\n",
       "    .dataframe thead th {\n",
       "        text-align: right;\n",
       "    }\n",
       "</style>\n",
       "<table border=\"1\" class=\"dataframe\">\n",
       "  <thead>\n",
       "    <tr style=\"text-align: right;\">\n",
       "      <th></th>\n",
       "      <th>account_info</th>\n",
       "      <th>duration_month</th>\n",
       "      <th>Loan</th>\n",
       "      <th>Regularity</th>\n",
       "      <th>Purpose</th>\n",
       "      <th>savings_account</th>\n",
       "      <th>Saving Account</th>\n",
       "      <th>employment_st</th>\n",
       "      <th>Salary</th>\n",
       "      <th>investment</th>\n",
       "      <th>...</th>\n",
       "      <th>resident_since</th>\n",
       "      <th>property_type</th>\n",
       "      <th>age</th>\n",
       "      <th>installment_type</th>\n",
       "      <th>housing_type</th>\n",
       "      <th>credits_no</th>\n",
       "      <th>job_type</th>\n",
       "      <th>liables</th>\n",
       "      <th>telephone</th>\n",
       "      <th>foreigner</th>\n",
       "    </tr>\n",
       "  </thead>\n",
       "  <tbody>\n",
       "    <tr>\n",
       "      <th>0</th>\n",
       "      <td>NaN</td>\n",
       "      <td>12</td>\n",
       "      <td>YES</td>\n",
       "      <td>YES</td>\n",
       "      <td>A40</td>\n",
       "      <td>A63</td>\n",
       "      <td>517.0</td>\n",
       "      <td>A73</td>\n",
       "      <td>1134</td>\n",
       "      <td>45.36</td>\n",
       "      <td>...</td>\n",
       "      <td>4</td>\n",
       "      <td>A123</td>\n",
       "      <td>29</td>\n",
       "      <td>A143</td>\n",
       "      <td>A151</td>\n",
       "      <td>1</td>\n",
       "      <td>A172</td>\n",
       "      <td>1</td>\n",
       "      <td>A191</td>\n",
       "      <td>A201</td>\n",
       "    </tr>\n",
       "    <tr>\n",
       "      <th>1</th>\n",
       "      <td>BRONZE</td>\n",
       "      <td>48</td>\n",
       "      <td>YES</td>\n",
       "      <td>NO</td>\n",
       "      <td>A40</td>\n",
       "      <td>A61</td>\n",
       "      <td>18.0</td>\n",
       "      <td>A75</td>\n",
       "      <td>783</td>\n",
       "      <td>31.32</td>\n",
       "      <td>...</td>\n",
       "      <td>4</td>\n",
       "      <td>A124</td>\n",
       "      <td>46</td>\n",
       "      <td>A143</td>\n",
       "      <td>A153</td>\n",
       "      <td>2</td>\n",
       "      <td>A173</td>\n",
       "      <td>1</td>\n",
       "      <td>A192</td>\n",
       "      <td>A201</td>\n",
       "    </tr>\n",
       "    <tr>\n",
       "      <th>2</th>\n",
       "      <td>GOLD</td>\n",
       "      <td>24</td>\n",
       "      <td>YES</td>\n",
       "      <td>YES</td>\n",
       "      <td>A40</td>\n",
       "      <td>A62</td>\n",
       "      <td>389.0</td>\n",
       "      <td>A75</td>\n",
       "      <td>1181</td>\n",
       "      <td>47.24</td>\n",
       "      <td>...</td>\n",
       "      <td>2</td>\n",
       "      <td>A124</td>\n",
       "      <td>47</td>\n",
       "      <td>A143</td>\n",
       "      <td>A153</td>\n",
       "      <td>1</td>\n",
       "      <td>A173</td>\n",
       "      <td>1</td>\n",
       "      <td>A192</td>\n",
       "      <td>A201</td>\n",
       "    </tr>\n",
       "    <tr>\n",
       "      <th>3</th>\n",
       "      <td>SILVER</td>\n",
       "      <td>30</td>\n",
       "      <td>YES</td>\n",
       "      <td>NO</td>\n",
       "      <td>A49</td>\n",
       "      <td>A62</td>\n",
       "      <td>326.0</td>\n",
       "      <td>A75</td>\n",
       "      <td>853</td>\n",
       "      <td>34.12</td>\n",
       "      <td>...</td>\n",
       "      <td>2</td>\n",
       "      <td>A122</td>\n",
       "      <td>41</td>\n",
       "      <td>A142</td>\n",
       "      <td>A152</td>\n",
       "      <td>2</td>\n",
       "      <td>A173</td>\n",
       "      <td>1</td>\n",
       "      <td>A191</td>\n",
       "      <td>A201</td>\n",
       "    </tr>\n",
       "    <tr>\n",
       "      <th>4</th>\n",
       "      <td>SILVER</td>\n",
       "      <td>27</td>\n",
       "      <td>YES</td>\n",
       "      <td>YES</td>\n",
       "      <td>A49</td>\n",
       "      <td>A61</td>\n",
       "      <td>16.0</td>\n",
       "      <td>A72</td>\n",
       "      <td>888</td>\n",
       "      <td>35.52</td>\n",
       "      <td>...</td>\n",
       "      <td>1</td>\n",
       "      <td>A122</td>\n",
       "      <td>32</td>\n",
       "      <td>A143</td>\n",
       "      <td>A152</td>\n",
       "      <td>1</td>\n",
       "      <td>A173</td>\n",
       "      <td>2</td>\n",
       "      <td>A192</td>\n",
       "      <td>A201</td>\n",
       "    </tr>\n",
       "  </tbody>\n",
       "</table>\n",
       "<p>5 rows × 23 columns</p>\n",
       "</div>"
      ],
      "text/plain": [
       "  account_info  duration_month Loan Regularity Purpose savings_account  \\\n",
       "0          NaN              12  YES        YES     A40             A63   \n",
       "1       BRONZE              48  YES         NO     A40             A61   \n",
       "2         GOLD              24  YES        YES     A40             A62   \n",
       "3       SILVER              30  YES         NO     A49             A62   \n",
       "4       SILVER              27  YES        YES     A49             A61   \n",
       "\n",
       "   Saving Account employment_st  Salary  investment  ... resident_since  \\\n",
       "0           517.0           A73    1134       45.36  ...              4   \n",
       "1            18.0           A75     783       31.32  ...              4   \n",
       "2           389.0           A75    1181       47.24  ...              2   \n",
       "3           326.0           A75     853       34.12  ...              2   \n",
       "4            16.0           A72     888       35.52  ...              1   \n",
       "\n",
       "  property_type age  installment_type housing_type  credits_no job_type  \\\n",
       "0          A123  29              A143         A151           1     A172   \n",
       "1          A124  46              A143         A153           2     A173   \n",
       "2          A124  47              A143         A153           1     A173   \n",
       "3          A122  41              A142         A152           2     A173   \n",
       "4          A122  32              A143         A152           1     A173   \n",
       "\n",
       "  liables  telephone foreigner  \n",
       "0       1       A191      A201  \n",
       "1       1       A192      A201  \n",
       "2       1       A192      A201  \n",
       "3       1       A191      A201  \n",
       "4       2       A192      A201  \n",
       "\n",
       "[5 rows x 23 columns]"
      ]
     },
     "execution_count": 9,
     "metadata": {},
     "output_type": "execute_result"
    }
   ],
   "source": [
    "test.head()"
   ]
  },
  {
   "cell_type": "code",
   "execution_count": 10,
   "metadata": {},
   "outputs": [
    {
     "data": {
      "text/plain": [
       "count      700.000000\n",
       "mean      3182.331429\n",
       "std       2725.319217\n",
       "min        276.000000\n",
       "25%       1350.750000\n",
       "50%       2253.000000\n",
       "75%       3913.250000\n",
       "max      15945.000000\n",
       "Name: credit_amount, dtype: float64"
      ]
     },
     "execution_count": 10,
     "metadata": {},
     "output_type": "execute_result"
    }
   ],
   "source": [
    "#Analyzing 'credit_amount' column\n",
    "train['credit_amount'].describe()"
   ]
  },
  {
   "cell_type": "code",
   "execution_count": 11,
   "metadata": {},
   "outputs": [
    {
     "name": "stdout",
     "output_type": "stream",
     "text": [
      "\n",
      " mu = 3182.33 and sigma = 2723.37\n",
      "\n"
     ]
    },
    {
     "data": {
      "image/png": "[encoded data removed]",
      "text/plain": [
       "<Figure size 432x288 with 1 Axes>"
      ]
     },
     "metadata": {
      "needs_background": "light"
     },
     "output_type": "display_data"
    },
    {
     "data": {
      "image/png": "[encoded data removed]",
      "text/plain": [
       "<Figure size 432x288 with 1 Axes>"
      ]
     },
     "metadata": {
      "needs_background": "light"
     },
     "output_type": "display_data"
    },
    {
     "name": "stdout",
     "output_type": "stream",
     "text": [
      "Skewness: 1.907337\n",
      "Kurtosis: 3.952490\n"
     ]
    }
   ],
   "source": [
    "from scipy import stats\n",
    "from scipy.stats import norm\n",
    "\n",
    "# Plot Histogram\n",
    "sns.distplot(train['credit_amount'] , fit=norm);\n",
    "\n",
    "# Get the fitted parameters used by the function\n",
    "(mu, sigma) = norm.fit(train['credit_amount'])\n",
    "print( '\\n mu = {:.2f} and sigma = {:.2f}\\n'.format(mu, sigma))\n",
    "plt.legend(['Normal dist. ($\\mu=$ {:.2f} and $\\sigma=$ {:.2f} )'.format(mu, sigma)],\n",
    "            loc='best')\n",
    "plt.ylabel('Frequency')\n",
    "plt.title('credit_amount distribution')\n",
    "\n",
    "fig = plt.figure()\n",
    "res = stats.probplot(train['credit_amount'], plot=plt)\n",
    "plt.show()\n",
    "\n",
    "print(\"Skewness: %f\" % train['credit_amount'].skew())\n",
    "print(\"Kurtosis: %f\" % train['credit_amount'].kurt())"
   ]
  },
  {
   "cell_type": "markdown",
   "metadata": {},
   "source": [
    "### 2. Exploratory Data Anaylsis"
   ]
  },
  {
   "cell_type": "markdown",
   "metadata": {},
   "source": [
    "### Checking Categorical Data"
   ]
  },
  {
   "cell_type": "code",
   "execution_count": 12,
   "metadata": {},
   "outputs": [
    {
     "data": {
      "text/plain": [
       "Index(['account_info', 'Loan', 'Regularity', 'Purpose', 'savings_account',\n",
       "       'employment_st', 'Gender', 'Status', 'gurantors', 'property_type',\n",
       "       'installment_type', 'housing_type', 'job_type', 'telephone',\n",
       "       'foreigner'],\n",
       "      dtype='object')"
      ]
     },
     "execution_count": 12,
     "metadata": {},
     "output_type": "execute_result"
    }
   ],
   "source": [
    "# Checking Categorical Data\n",
    "train.select_dtypes(include=['object']).columns"
   ]
  },
  {
   "cell_type": "markdown",
   "metadata": {},
   "source": [
    "### Checking Numerical Data"
   ]
  },
  {
   "cell_type": "code",
   "execution_count": 13,
   "metadata": {},
   "outputs": [
    {
     "data": {
      "text/plain": [
       "Index(['duration_month', 'credit_amount', 'Saving Account', 'Salary',\n",
       "       'investment', 'resident_since', 'age', 'credits_no', 'liables'],\n",
       "      dtype='object')"
      ]
     },
     "execution_count": 13,
     "metadata": {},
     "output_type": "execute_result"
    }
   ],
   "source": [
    "# Checking Numerical Data\n",
    "train.select_dtypes(include=['int64','float64']).columns"
   ]
  },
  {
   "cell_type": "code",
   "execution_count": 14,
   "metadata": {},
   "outputs": [
    {
     "name": "stdout",
     "output_type": "stream",
     "text": [
      "Total Features:  15 categorical + 9 numerical = 24 features\n"
     ]
    }
   ],
   "source": [
    "cat = len(train.select_dtypes(include=['object']).columns)\n",
    "num = len(train.select_dtypes(include=['int64','float64']).columns)\n",
    "print('Total Features: ', cat, 'categorical', '+',\n",
    "      num, 'numerical', '=', cat+num, 'features')"
   ]
  },
  {
   "cell_type": "markdown",
   "metadata": {},
   "source": [
    "### Correlation Matrix Heatmap"
   ]
  },
  {
   "cell_type": "code",
   "execution_count": 15,
   "metadata": {},
   "outputs": [
    {
     "data": {
      "image/png": "[encoded data removed]",
      "text/plain": [
       "<Figure size 864x648 with 2 Axes>"
      ]
     },
     "metadata": {
      "needs_background": "light"
     },
     "output_type": "display_data"
    }
   ],
   "source": [
    "# Correlation Matrix Heatmap\n",
    "corrmat = train.corr()\n",
    "f, ax = plt.subplots(figsize=(12, 9))\n",
    "sns.heatmap(corrmat, vmax=.8,annot=True, square=True);"
   ]
  },
  {
   "cell_type": "code",
   "execution_count": 16,
   "metadata": {},
   "outputs": [
    {
     "ename": "NameError",
     "evalue": "name 'cols' is not defined",
     "output_type": "error",
     "traceback": [
      "\u001b[0;31m---------------------------------------------------------------------------\u001b[0m",
      "\u001b[0;31mNameError\u001b[0m                                 Traceback (most recent call last)",
      "\u001b[0;32m<ipython-input-16-d18ccc706f45>\u001b[0m in \u001b[0;36m<module>\u001b[0;34m\u001b[0m\n\u001b[0;32m----> 1\u001b[0;31m \u001b[0mmost_corr\u001b[0m \u001b[0;34m=\u001b[0m \u001b[0mpd\u001b[0m\u001b[0;34m.\u001b[0m\u001b[0mDataFrame\u001b[0m\u001b[0;34m(\u001b[0m\u001b[0mcols\u001b[0m\u001b[0;34m)\u001b[0m\u001b[0;34m\u001b[0m\u001b[0;34m\u001b[0m\u001b[0m\n\u001b[0m\u001b[1;32m      2\u001b[0m \u001b[0mmost_corr\u001b[0m\u001b[0;34m.\u001b[0m\u001b[0mcolumns\u001b[0m \u001b[0;34m=\u001b[0m \u001b[0;34m[\u001b[0m\u001b[0;34m'Most Correlated Features'\u001b[0m\u001b[0;34m]\u001b[0m\u001b[0;34m\u001b[0m\u001b[0;34m\u001b[0m\u001b[0m\n\u001b[1;32m      3\u001b[0m \u001b[0mmost_corr\u001b[0m\u001b[0;34m\u001b[0m\u001b[0;34m\u001b[0m\u001b[0m\n",
      "\u001b[0;31mNameError\u001b[0m: name 'cols' is not defined"
     ]
    }
   ],
   "source": [
    "most_corr = pd.DataFrame(cols)\n",
    "most_corr.columns = ['Most Correlated Features']\n",
    "most_corr"
   ]
  },
  {
   "cell_type": "code",
   "execution_count": null,
   "metadata": {},
   "outputs": [],
   "source": [
    "# duration_month vs credit_amount \n",
    "var = 'duration_month'\n",
    "data = pd.concat([train['credit_amount'], train[var]], axis=1)\n",
    "f, ax = plt.subplots(figsize=(8, 6))\n",
    "fig = sns.boxplot(x=var, y=\"credit_amount\", data=data)\n",
    "fig.axis(ymin=0, ymax=800000);"
   ]
  },
  {
   "cell_type": "code",
   "execution_count": 17,
   "metadata": {},
   "outputs": [
    {
     "data": {
      "text/plain": [
       "<matplotlib.axes._subplots.AxesSubplot at 0x1a174a89b0>"
      ]
     },
     "execution_count": 17,
     "metadata": {},
     "output_type": "execute_result"
    },
    {
     "data": {
      "image/png": "[encoded data removed]",
      "text/plain": [
       "<Figure size 432x288 with 1 Axes>"
      ]
     },
     "metadata": {
      "needs_background": "light"
     },
     "output_type": "display_data"
    }
   ],
   "source": [
    "# Purpose vs credit_amount\n",
    "sns.boxplot(x=train['Purpose'], y=train['credit_amount'])"
   ]
  },
  {
   "cell_type": "code",
   "execution_count": 18,
   "metadata": {},
   "outputs": [
    {
     "data": {
      "text/plain": [
       "<matplotlib.axes._subplots.AxesSubplot at 0x1a1755e6d8>"
      ]
     },
     "execution_count": 18,
     "metadata": {},
     "output_type": "execute_result"
    },
    {
     "data": {
      "image/png": "[encoded data removed]",
      "text/plain": [
       "<Figure size 432x288 with 1 Axes>"
      ]
     },
     "metadata": {
      "needs_background": "light"
     },
     "output_type": "display_data"
    }
   ],
   "source": [
    "# Loan vs credit_amount\n",
    "sns.boxplot(x=train['Loan'], y=train['credit_amount'])"
   ]
  },
  {
   "cell_type": "code",
   "execution_count": 19,
   "metadata": {},
   "outputs": [
    {
     "data": {
      "text/plain": [
       "<matplotlib.axes._subplots.AxesSubplot at 0x1a1764c2b0>"
      ]
     },
     "execution_count": 19,
     "metadata": {},
     "output_type": "execute_result"
    },
    {
     "data": {
      "image/png": "[encoded data removed]",
      "text/plain": [
       "<Figure size 432x288 with 1 Axes>"
      ]
     },
     "metadata": {
      "needs_background": "light"
     },
     "output_type": "display_data"
    }
   ],
   "source": [
    "# Regularity vs credit_amount\n",
    "sns.boxplot(x=train['Regularity'], y=train['credit_amount'])"
   ]
  },
  {
   "cell_type": "code",
   "execution_count": 20,
   "metadata": {},
   "outputs": [
    {
     "data": {
      "text/plain": [
       "<matplotlib.axes._subplots.AxesSubplot at 0x1a16bd2ef0>"
      ]
     },
     "execution_count": 20,
     "metadata": {},
     "output_type": "execute_result"
    },
    {
     "data": {
      "image/png": "[encoded data removed]",
      "text/plain": [
       "<Figure size 432x288 with 1 Axes>"
      ]
     },
     "metadata": {
      "needs_background": "light"
     },
     "output_type": "display_data"
    }
   ],
   "source": [
    "# employment_st vs credit_amount\n",
    "sns.boxplot(x=train['employment_st'], y=train['credit_amount'])"
   ]
  },
  {
   "cell_type": "code",
   "execution_count": 21,
   "metadata": {},
   "outputs": [
    {
     "data": {
      "text/plain": [
       "<matplotlib.axes._subplots.AxesSubplot at 0x1a177137b8>"
      ]
     },
     "execution_count": 21,
     "metadata": {},
     "output_type": "execute_result"
    },
    {
     "data": {
      "image/png": "[encoded data removed]",
      "text/plain": [
       "<Figure size 432x288 with 1 Axes>"
      ]
     },
     "metadata": {
      "needs_background": "light"
     },
     "output_type": "display_data"
    }
   ],
   "source": [
    "# Gender vs credit_amount\n",
    "sns.boxplot(x=train['Gender'], y=train['credit_amount'])"
   ]
  },
  {
   "cell_type": "code",
   "execution_count": 22,
   "metadata": {},
   "outputs": [
    {
     "data": {
      "text/plain": [
       "<matplotlib.axes._subplots.AxesSubplot at 0x1a177e7898>"
      ]
     },
     "execution_count": 22,
     "metadata": {},
     "output_type": "execute_result"
    },
    {
     "data": {
      "image/png": "[encoded data removed]",
      "text/plain": [
       "<Figure size 432x288 with 1 Axes>"
      ]
     },
     "metadata": {
      "needs_background": "light"
     },
     "output_type": "display_data"
    }
   ],
   "source": [
    "# Status vs credit_amount\n",
    "sns.boxplot(x=train['Status'], y=train['credit_amount'])"
   ]
  },
  {
   "cell_type": "code",
   "execution_count": 23,
   "metadata": {},
   "outputs": [
    {
     "data": {
      "text/plain": [
       "<matplotlib.axes._subplots.AxesSubplot at 0x1a178d67f0>"
      ]
     },
     "execution_count": 23,
     "metadata": {},
     "output_type": "execute_result"
    },
    {
     "data": {
      "image/png": "[encoded data removed]",
      "text/plain": [
       "<Figure size 432x288 with 1 Axes>"
      ]
     },
     "metadata": {
      "needs_background": "light"
     },
     "output_type": "display_data"
    }
   ],
   "source": [
    "# gurantors vs credit_amount\n",
    "sns.boxplot(x=train['gurantors'], y=train['credit_amount'])"
   ]
  },
  {
   "cell_type": "code",
   "execution_count": 24,
   "metadata": {},
   "outputs": [
    {
     "data": {
      "text/plain": [
       "<matplotlib.axes._subplots.AxesSubplot at 0x1a179d5748>"
      ]
     },
     "execution_count": 24,
     "metadata": {},
     "output_type": "execute_result"
    },
    {
     "data": {
      "image/png": "[encoded data removed]",
      "text/plain": [
       "<Figure size 432x288 with 1 Axes>"
      ]
     },
     "metadata": {
      "needs_background": "light"
     },
     "output_type": "display_data"
    }
   ],
   "source": [
    "# property_type vs credit_amount\n",
    "sns.boxplot(x=train['property_type'], y=train['credit_amount'])"
   ]
  },
  {
   "cell_type": "code",
   "execution_count": 25,
   "metadata": {},
   "outputs": [
    {
     "data": {
      "text/plain": [
       "<matplotlib.axes._subplots.AxesSubplot at 0x1a179cbd30>"
      ]
     },
     "execution_count": 25,
     "metadata": {},
     "output_type": "execute_result"
    },
    {
     "data": {
      "image/png": "[encoded data removed]",
      "text/plain": [
       "<Figure size 432x288 with 1 Axes>"
      ]
     },
     "metadata": {
      "needs_background": "light"
     },
     "output_type": "display_data"
    }
   ],
   "source": [
    "# installment_type vs credit_amount\n",
    "sns.boxplot(x=train['installment_type'], y=train['credit_amount'])"
   ]
  },
  {
   "cell_type": "code",
   "execution_count": 26,
   "metadata": {},
   "outputs": [
    {
     "data": {
      "text/plain": [
       "<matplotlib.axes._subplots.AxesSubplot at 0x1a17be5c18>"
      ]
     },
     "execution_count": 26,
     "metadata": {},
     "output_type": "execute_result"
    },
    {
     "data": {
      "image/png": "[encoded data removed]",
      "text/plain": [
       "<Figure size 432x288 with 1 Axes>"
      ]
     },
     "metadata": {
      "needs_background": "light"
     },
     "output_type": "display_data"
    }
   ],
   "source": [
    "# housing_type vs credit_amount\n",
    "sns.boxplot(x=train['housing_type'], y=train['credit_amount'])"
   ]
  },
  {
   "cell_type": "code",
   "execution_count": 27,
   "metadata": {},
   "outputs": [
    {
     "data": {
      "text/plain": [
       "<matplotlib.axes._subplots.AxesSubplot at 0x1a17cd8f60>"
      ]
     },
     "execution_count": 27,
     "metadata": {},
     "output_type": "execute_result"
    },
    {
     "data": {
      "image/png": "[encoded data removed]",
      "text/plain": [
       "<Figure size 432x288 with 1 Axes>"
      ]
     },
     "metadata": {
      "needs_background": "light"
     },
     "output_type": "display_data"
    }
   ],
   "source": [
    "# job_type vs credit_amount\n",
    "sns.boxplot(x=train['job_type'], y=train['credit_amount'])"
   ]
  },
  {
   "cell_type": "code",
   "execution_count": 28,
   "metadata": {},
   "outputs": [
    {
     "data": {
      "text/plain": [
       "<matplotlib.axes._subplots.AxesSubplot at 0x1a17dfa5f8>"
      ]
     },
     "execution_count": 28,
     "metadata": {},
     "output_type": "execute_result"
    },
    {
     "data": {
      "image/png": "[encoded data removed]",
      "text/plain": [
       "<Figure size 432x288 with 1 Axes>"
      ]
     },
     "metadata": {
      "needs_background": "light"
     },
     "output_type": "display_data"
    }
   ],
   "source": [
    "# telephone vs credit_amount\n",
    "sns.boxplot(x=train['telephone'], y=train['credit_amount'])"
   ]
  },
  {
   "cell_type": "code",
   "execution_count": 29,
   "metadata": {},
   "outputs": [
    {
     "data": {
      "text/plain": [
       "<matplotlib.axes._subplots.AxesSubplot at 0x1a17ee20f0>"
      ]
     },
     "execution_count": 29,
     "metadata": {},
     "output_type": "execute_result"
    },
    {
     "data": {
      "image/png": "[encoded data removed]",
      "text/plain": [
       "<Figure size 432x288 with 1 Axes>"
      ]
     },
     "metadata": {
      "needs_background": "light"
     },
     "output_type": "display_data"
    }
   ],
   "source": [
    "# foreigner vs credit_amount\n",
    "sns.boxplot(x=train['foreigner'], y=train['credit_amount'])"
   ]
  },
  {
   "cell_type": "markdown",
   "metadata": {},
   "source": [
    "### 3. Impute Missing Data and Clean Data"
   ]
  },
  {
   "cell_type": "code",
   "execution_count": 30,
   "metadata": {},
   "outputs": [
    {
     "name": "stderr",
     "output_type": "stream",
     "text": [
      "/anaconda3/lib/python3.7/site-packages/ipykernel_launcher.py:5: FutureWarning: Sorting because non-concatenation axis is not aligned. A future version\n",
      "of pandas will change to not sort by default.\n",
      "\n",
      "To accept the future behavior, pass 'sort=False'.\n",
      "\n",
      "To retain the current behavior and silence the warning, pass 'sort=True'.\n",
      "\n",
      "  \"\"\"\n"
     ]
    }
   ],
   "source": [
    "# Combining Datasets\n",
    "ntrain = train.shape[0]\n",
    "ntest = test.shape[0]\n",
    "y_train = train.credit_amount.values\n",
    "all_data = pd.concat((train, test)).reset_index(drop=True)\n",
    "all_data.drop(['credit_amount'], axis=1, inplace=True)"
   ]
  },
  {
   "cell_type": "code",
   "execution_count": 31,
   "metadata": {
    "scrolled": true
   },
   "outputs": [
    {
     "data": {
      "text/plain": [
       "Gender               0.0\n",
       "Loan                 0.0\n",
       "Purpose              0.0\n",
       "Regularity           0.0\n",
       "Salary               0.0\n",
       "Saving Account      18.3\n",
       "Status               0.0\n",
       "account_info        39.4\n",
       "age                  0.0\n",
       "credits_no           0.0\n",
       "duration_month       0.0\n",
       "employment_st        0.0\n",
       "foreigner            0.0\n",
       "gurantors            0.0\n",
       "housing_type         0.0\n",
       "installment_type     0.0\n",
       "investment           0.0\n",
       "job_type             0.0\n",
       "liables              0.0\n",
       "property_type        0.0\n",
       "resident_since       0.0\n",
       "savings_account      0.0\n",
       "telephone            0.0\n",
       "dtype: float64"
      ]
     },
     "execution_count": 31,
     "metadata": {},
     "output_type": "execute_result"
    }
   ],
   "source": [
    "# Find Missing Ratio of Dataset\n",
    "round(100*(all_data.isnull().sum()/len(all_data.index)), 2)"
   ]
  },
  {
   "cell_type": "code",
   "execution_count": 32,
   "metadata": {},
   "outputs": [],
   "source": [
    "#imputing NotAvailable in account_info column\n",
    "\n",
    "all_data.account_info=pd.DataFrame(all_data.account_info).fillna(\"NotAvailable\")"
   ]
  },
  {
   "cell_type": "code",
   "execution_count": 33,
   "metadata": {
    "scrolled": true
   },
   "outputs": [
    {
     "data": {
      "text/html": [
       "<div>\n",
       "<style scoped>\n",
       "    .dataframe tbody tr th:only-of-type {\n",
       "        vertical-align: middle;\n",
       "    }\n",
       "\n",
       "    .dataframe tbody tr th {\n",
       "        vertical-align: top;\n",
       "    }\n",
       "\n",
       "    .dataframe thead th {\n",
       "        text-align: right;\n",
       "    }\n",
       "</style>\n",
       "<table border=\"1\" class=\"dataframe\">\n",
       "  <thead>\n",
       "    <tr style=\"text-align: right;\">\n",
       "      <th></th>\n",
       "      <th>Gender</th>\n",
       "      <th>Loan</th>\n",
       "      <th>Purpose</th>\n",
       "      <th>Regularity</th>\n",
       "      <th>Salary</th>\n",
       "      <th>Saving Account</th>\n",
       "      <th>Status</th>\n",
       "      <th>account_info</th>\n",
       "      <th>age</th>\n",
       "      <th>credits_no</th>\n",
       "      <th>...</th>\n",
       "      <th>gurantors</th>\n",
       "      <th>housing_type</th>\n",
       "      <th>installment_type</th>\n",
       "      <th>investment</th>\n",
       "      <th>job_type</th>\n",
       "      <th>liables</th>\n",
       "      <th>property_type</th>\n",
       "      <th>resident_since</th>\n",
       "      <th>savings_account</th>\n",
       "      <th>telephone</th>\n",
       "    </tr>\n",
       "  </thead>\n",
       "  <tbody>\n",
       "    <tr>\n",
       "      <th>0</th>\n",
       "      <td>M</td>\n",
       "      <td>YES</td>\n",
       "      <td>A40</td>\n",
       "      <td>NO</td>\n",
       "      <td>852</td>\n",
       "      <td>NaN</td>\n",
       "      <td>Umarried</td>\n",
       "      <td>BRONZE</td>\n",
       "      <td>67</td>\n",
       "      <td>2</td>\n",
       "      <td>...</td>\n",
       "      <td>A101</td>\n",
       "      <td>A152</td>\n",
       "      <td>A143</td>\n",
       "      <td>34.08</td>\n",
       "      <td>A173</td>\n",
       "      <td>1</td>\n",
       "      <td>A121</td>\n",
       "      <td>4</td>\n",
       "      <td>A65</td>\n",
       "      <td>A192</td>\n",
       "    </tr>\n",
       "    <tr>\n",
       "      <th>1</th>\n",
       "      <td>F</td>\n",
       "      <td>YES</td>\n",
       "      <td>A40</td>\n",
       "      <td>YES</td>\n",
       "      <td>2400</td>\n",
       "      <td>72.0</td>\n",
       "      <td>Divorced</td>\n",
       "      <td>SILVER</td>\n",
       "      <td>22</td>\n",
       "      <td>1</td>\n",
       "      <td>...</td>\n",
       "      <td>A101</td>\n",
       "      <td>A152</td>\n",
       "      <td>A143</td>\n",
       "      <td>48.00</td>\n",
       "      <td>A173</td>\n",
       "      <td>1</td>\n",
       "      <td>A121</td>\n",
       "      <td>2</td>\n",
       "      <td>A61</td>\n",
       "      <td>A191</td>\n",
       "    </tr>\n",
       "    <tr>\n",
       "      <th>2</th>\n",
       "      <td>M</td>\n",
       "      <td>YES</td>\n",
       "      <td>A46</td>\n",
       "      <td>NO</td>\n",
       "      <td>2078</td>\n",
       "      <td>68.0</td>\n",
       "      <td>Umarried</td>\n",
       "      <td>NotAvailable</td>\n",
       "      <td>49</td>\n",
       "      <td>1</td>\n",
       "      <td>...</td>\n",
       "      <td>A101</td>\n",
       "      <td>A152</td>\n",
       "      <td>A143</td>\n",
       "      <td>41.56</td>\n",
       "      <td>A172</td>\n",
       "      <td>2</td>\n",
       "      <td>A121</td>\n",
       "      <td>3</td>\n",
       "      <td>A61</td>\n",
       "      <td>A191</td>\n",
       "    </tr>\n",
       "    <tr>\n",
       "      <th>3</th>\n",
       "      <td>M</td>\n",
       "      <td>YES</td>\n",
       "      <td>A40</td>\n",
       "      <td>YES</td>\n",
       "      <td>2380</td>\n",
       "      <td>73.0</td>\n",
       "      <td>Umarried</td>\n",
       "      <td>BRONZE</td>\n",
       "      <td>45</td>\n",
       "      <td>1</td>\n",
       "      <td>...</td>\n",
       "      <td>A103</td>\n",
       "      <td>A153</td>\n",
       "      <td>A143</td>\n",
       "      <td>47.60</td>\n",
       "      <td>A173</td>\n",
       "      <td>2</td>\n",
       "      <td>A122</td>\n",
       "      <td>4</td>\n",
       "      <td>A61</td>\n",
       "      <td>A191</td>\n",
       "    </tr>\n",
       "    <tr>\n",
       "      <th>4</th>\n",
       "      <td>M</td>\n",
       "      <td>YES</td>\n",
       "      <td>A40</td>\n",
       "      <td>NO</td>\n",
       "      <td>1756</td>\n",
       "      <td>52.0</td>\n",
       "      <td>Umarried</td>\n",
       "      <td>BRONZE</td>\n",
       "      <td>53</td>\n",
       "      <td>2</td>\n",
       "      <td>...</td>\n",
       "      <td>A101</td>\n",
       "      <td>A153</td>\n",
       "      <td>A143</td>\n",
       "      <td>52.68</td>\n",
       "      <td>A173</td>\n",
       "      <td>2</td>\n",
       "      <td>A124</td>\n",
       "      <td>4</td>\n",
       "      <td>A61</td>\n",
       "      <td>A191</td>\n",
       "    </tr>\n",
       "  </tbody>\n",
       "</table>\n",
       "<p>5 rows × 23 columns</p>\n",
       "</div>"
      ],
      "text/plain": [
       "  Gender Loan Purpose Regularity  Salary  Saving Account    Status  \\\n",
       "0      M  YES     A40         NO     852             NaN  Umarried   \n",
       "1      F  YES     A40        YES    2400            72.0  Divorced   \n",
       "2      M  YES     A46         NO    2078            68.0  Umarried   \n",
       "3      M  YES     A40        YES    2380            73.0  Umarried   \n",
       "4      M  YES     A40         NO    1756            52.0  Umarried   \n",
       "\n",
       "   account_info  age  credits_no  ...  gurantors housing_type  \\\n",
       "0        BRONZE   67           2  ...       A101         A152   \n",
       "1        SILVER   22           1  ...       A101         A152   \n",
       "2  NotAvailable   49           1  ...       A101         A152   \n",
       "3        BRONZE   45           1  ...       A103         A153   \n",
       "4        BRONZE   53           2  ...       A101         A153   \n",
       "\n",
       "  installment_type investment job_type liables  property_type resident_since  \\\n",
       "0             A143      34.08     A173       1           A121              4   \n",
       "1             A143      48.00     A173       1           A121              2   \n",
       "2             A143      41.56     A172       2           A121              3   \n",
       "3             A143      47.60     A173       2           A122              4   \n",
       "4             A143      52.68     A173       2           A124              4   \n",
       "\n",
       "   savings_account telephone  \n",
       "0              A65      A192  \n",
       "1              A61      A191  \n",
       "2              A61      A191  \n",
       "3              A61      A191  \n",
       "4              A61      A191  \n",
       "\n",
       "[5 rows x 23 columns]"
      ]
     },
     "execution_count": 33,
     "metadata": {},
     "output_type": "execute_result"
    }
   ],
   "source": [
    "all_data.head()"
   ]
  },
  {
   "cell_type": "code",
   "execution_count": 34,
   "metadata": {
    "scrolled": true
   },
   "outputs": [],
   "source": [
    "#imputing 0 in Saving Account column\n",
    "\n",
    "all_data['Saving Account'] = all_data['Saving Account'].fillna(0)"
   ]
  },
  {
   "cell_type": "code",
   "execution_count": 35,
   "metadata": {},
   "outputs": [
    {
     "data": {
      "text/plain": [
       "Gender               object\n",
       "Loan                 object\n",
       "Purpose              object\n",
       "Regularity           object\n",
       "Salary                int64\n",
       "Saving Account      float64\n",
       "Status               object\n",
       "account_info         object\n",
       "age                   int64\n",
       "credits_no            int64\n",
       "duration_month        int64\n",
       "employment_st        object\n",
       "foreigner            object\n",
       "gurantors            object\n",
       "housing_type         object\n",
       "installment_type     object\n",
       "investment          float64\n",
       "job_type             object\n",
       "liables               int64\n",
       "property_type        object\n",
       "resident_since        int64\n",
       "savings_account      object\n",
       "telephone            object\n",
       "dtype: object"
      ]
     },
     "execution_count": 35,
     "metadata": {},
     "output_type": "execute_result"
    }
   ],
   "source": [
    "all_data.dtypes"
   ]
  },
  {
   "cell_type": "markdown",
   "metadata": {},
   "source": [
    "### 4. Feature Transformation"
   ]
  },
  {
   "cell_type": "code",
   "execution_count": 36,
   "metadata": {},
   "outputs": [
    {
     "name": "stdout",
     "output_type": "stream",
     "text": [
      "Shape all_data: (1000, 23)\n"
     ]
    }
   ],
   "source": [
    "from sklearn.preprocessing import LabelEncoder\n",
    "cols = ('Gender', 'Loan', 'Purpose', 'Regularity', 'Status', 'account_info',\n",
    "       'employment_st', 'foreigner', 'gurantors', 'housing_type',\n",
    "       'installment_type', 'job_type', 'property_type', 'savings_account',\n",
    "       'telephone')\n",
    "# Process columns and apply LabelEncoder to categorical features\n",
    "for c in cols:\n",
    "    lbl = LabelEncoder() \n",
    "    lbl.fit(list(all_data[c].values)) \n",
    "    all_data[c] = lbl.transform(list(all_data[c].values))\n",
    "\n",
    "# Check shape        \n",
    "print('Shape all_data: {}'.format(all_data.shape))"
   ]
  },
  {
   "cell_type": "code",
   "execution_count": 37,
   "metadata": {},
   "outputs": [
    {
     "data": {
      "text/plain": [
       "Index([], dtype='object')"
      ]
     },
     "execution_count": 37,
     "metadata": {},
     "output_type": "execute_result"
    }
   ],
   "source": [
    "all_data.select_dtypes(include=['object']).columns"
   ]
  },
  {
   "cell_type": "markdown",
   "metadata": {},
   "source": [
    "#### Fixing \"skewed\" features."
   ]
  },
  {
   "cell_type": "code",
   "execution_count": 38,
   "metadata": {},
   "outputs": [
    {
     "name": "stdout",
     "output_type": "stream",
     "text": [
      "\n",
      " mu = 7.77 and sigma = 0.77\n",
      "\n"
     ]
    },
    {
     "data": {
      "image/png": "[encoded data removed]",
      "text/plain": [
       "<Figure size 432x288 with 1 Axes>"
      ]
     },
     "metadata": {
      "needs_background": "light"
     },
     "output_type": "display_data"
    },
    {
     "data": {
      "image/png": "[encoded data removed]",
      "text/plain": [
       "<Figure size 432x288 with 1 Axes>"
      ]
     },
     "metadata": {
      "needs_background": "light"
     },
     "output_type": "display_data"
    },
    {
     "name": "stdout",
     "output_type": "stream",
     "text": [
      "Skewness: 0.135134\n",
      "Kurtosis: -0.342111\n"
     ]
    }
   ],
   "source": [
    "# We use the numpy fuction log1p which  applies log(1+x) to all elements of the column\n",
    "train[\"credit_amount\"] = np.log1p(train[\"credit_amount\"])\n",
    "\n",
    "#Check the new distribution \n",
    "sns.distplot(train['credit_amount'] , fit=norm);\n",
    "\n",
    "# Get the fitted parameters used by the function\n",
    "(mu, sigma) = norm.fit(train['credit_amount'])\n",
    "print( '\\n mu = {:.2f} and sigma = {:.2f}\\n'.format(mu, sigma))\n",
    "plt.legend(['Normal dist. ($\\mu=$ {:.2f} and $\\sigma=$ {:.2f} )'.format(mu, sigma)],\n",
    "            loc='best')\n",
    "plt.ylabel('Frequency')\n",
    "plt.title('credit_amount distribution')\n",
    "\n",
    "fig = plt.figure()\n",
    "res = stats.probplot(train['credit_amount'], plot=plt)\n",
    "plt.show()\n",
    "\n",
    "y_train = train.credit_amount.values\n",
    "\n",
    "print(\"Skewness: %f\" % train['credit_amount'].skew())\n",
    "print(\"Kurtosis: %f\" % train['credit_amount'].kurt())"
   ]
  },
  {
   "cell_type": "markdown",
   "metadata": {},
   "source": [
    "### 5. Modeling and Predictions"
   ]
  },
  {
   "cell_type": "code",
   "execution_count": 39,
   "metadata": {},
   "outputs": [],
   "source": [
    "from scipy.stats import skew\n",
    "from scipy import stats\n",
    "from scipy.stats.stats import pearsonr\n",
    "from scipy.stats import norm\n",
    "from collections import Counter\n",
    "from sklearn.linear_model import LinearRegression,LassoCV, Ridge, LassoLarsCV,ElasticNetCV\n",
    "from sklearn.model_selection import GridSearchCV, cross_val_score, learning_curve\n",
    "from sklearn.ensemble import RandomForestRegressor, AdaBoostRegressor, ExtraTreesRegressor, GradientBoostingRegressor\n",
    "from sklearn.preprocessing import StandardScaler, Normalizer, RobustScaler"
   ]
  },
  {
   "cell_type": "code",
   "execution_count": 40,
   "metadata": {},
   "outputs": [
    {
     "data": {
      "text/html": [
       "<div>\n",
       "<style scoped>\n",
       "    .dataframe tbody tr th:only-of-type {\n",
       "        vertical-align: middle;\n",
       "    }\n",
       "\n",
       "    .dataframe tbody tr th {\n",
       "        vertical-align: top;\n",
       "    }\n",
       "\n",
       "    .dataframe thead th {\n",
       "        text-align: right;\n",
       "    }\n",
       "</style>\n",
       "<table border=\"1\" class=\"dataframe\">\n",
       "  <thead>\n",
       "    <tr style=\"text-align: right;\">\n",
       "      <th></th>\n",
       "      <th>Skewed Features</th>\n",
       "    </tr>\n",
       "  </thead>\n",
       "  <tbody>\n",
       "    <tr>\n",
       "      <th>foreigner</th>\n",
       "      <td>4.905655</td>\n",
       "    </tr>\n",
       "    <tr>\n",
       "      <th>Saving Account</th>\n",
       "      <td>4.173155</td>\n",
       "    </tr>\n",
       "    <tr>\n",
       "      <th>gurantors</th>\n",
       "      <td>3.259350</td>\n",
       "    </tr>\n",
       "    <tr>\n",
       "      <th>Purpose</th>\n",
       "      <td>2.160354</td>\n",
       "    </tr>\n",
       "    <tr>\n",
       "      <th>liables</th>\n",
       "      <td>1.906579</td>\n",
       "    </tr>\n",
       "  </tbody>\n",
       "</table>\n",
       "</div>"
      ],
      "text/plain": [
       "                Skewed Features\n",
       "foreigner              4.905655\n",
       "Saving Account         4.173155\n",
       "gurantors              3.259350\n",
       "Purpose                2.160354\n",
       "liables                1.906579"
      ]
     },
     "execution_count": 40,
     "metadata": {},
     "output_type": "execute_result"
    }
   ],
   "source": [
    "numeric_feats = all_data.dtypes[all_data.dtypes != \"object\"].index\n",
    "\n",
    "# Check the skew of all numerical features\n",
    "skewed_feats = all_data[numeric_feats].apply(lambda x: skew(x.dropna())).sort_values(ascending=False)\n",
    "skewness = pd.DataFrame({'Skewed Features' :skewed_feats})\n",
    "skewness.head()"
   ]
  },
  {
   "cell_type": "code",
   "execution_count": 41,
   "metadata": {},
   "outputs": [
    {
     "name": "stdout",
     "output_type": "stream",
     "text": [
      "There are 23 skewed numerical features to Box Cox transform\n"
     ]
    }
   ],
   "source": [
    "skewness = skewness[abs(skewness) > 0.75]\n",
    "print(\"There are {} skewed numerical features to Box Cox transform\".format(skewness.shape[0]))\n",
    "\n",
    "from scipy.special import boxcox1p\n",
    "skewed_features = skewness.index\n",
    "lam = 0.15\n",
    "for feat in skewed_features:\n",
    "    all_data[feat] = boxcox1p(all_data[feat], lam)\n",
    "    all_data[feat] += 1"
   ]
  },
  {
   "cell_type": "code",
   "execution_count": 42,
   "metadata": {},
   "outputs": [
    {
     "name": "stdout",
     "output_type": "stream",
     "text": [
      "(1000, 23)\n"
     ]
    }
   ],
   "source": [
    "all_data = pd.get_dummies(all_data)\n",
    "print(all_data.shape)"
   ]
  },
  {
   "cell_type": "code",
   "execution_count": 43,
   "metadata": {},
   "outputs": [],
   "source": [
    "train = all_data[:ntrain]\n",
    "test = all_data[ntrain:]"
   ]
  },
  {
   "cell_type": "code",
   "execution_count": 44,
   "metadata": {
    "scrolled": true
   },
   "outputs": [
    {
     "data": {
      "text/plain": [
       "Index(['Gender', 'Loan', 'Purpose', 'Regularity', 'Salary', 'Saving Account',\n",
       "       'Status', 'account_info', 'age', 'credits_no', 'duration_month',\n",
       "       'employment_st', 'foreigner', 'gurantors', 'housing_type',\n",
       "       'installment_type', 'investment', 'job_type', 'liables',\n",
       "       'property_type', 'resident_since', 'savings_account', 'telephone'],\n",
       "      dtype='object')"
      ]
     },
     "execution_count": 44,
     "metadata": {},
     "output_type": "execute_result"
    }
   ],
   "source": [
    "test.columns"
   ]
  },
  {
   "cell_type": "code",
   "execution_count": 45,
   "metadata": {},
   "outputs": [
    {
     "data": {
      "text/plain": [
       "Index(['Gender', 'Loan', 'Purpose', 'Regularity', 'Salary', 'Saving Account',\n",
       "       'Status', 'account_info', 'age', 'credits_no', 'duration_month',\n",
       "       'employment_st', 'foreigner', 'gurantors', 'housing_type',\n",
       "       'installment_type', 'investment', 'job_type', 'liables',\n",
       "       'property_type', 'resident_since', 'savings_account', 'telephone'],\n",
       "      dtype='object')"
      ]
     },
     "execution_count": 45,
     "metadata": {},
     "output_type": "execute_result"
    }
   ],
   "source": [
    "train.columns"
   ]
  },
  {
   "cell_type": "code",
   "execution_count": 46,
   "metadata": {
    "scrolled": true
   },
   "outputs": [],
   "source": [
    "#conda install py-xgboost"
   ]
  },
  {
   "cell_type": "code",
   "execution_count": 47,
   "metadata": {},
   "outputs": [],
   "source": [
    "#conda install -c conda-forge lightgbm "
   ]
  },
  {
   "cell_type": "code",
   "execution_count": 48,
   "metadata": {},
   "outputs": [
    {
     "name": "stderr",
     "output_type": "stream",
     "text": [
      "/anaconda3/lib/python3.7/site-packages/lightgbm/__init__.py:48: UserWarning: Starting from version 2.2.1, the library file in distribution wheels for macOS is built by the Apple Clang (Xcode_8.3.3) compiler.\n",
      "This means that in case of installing LightGBM from PyPI via the ``pip install lightgbm`` command, you don't need to install the gcc compiler anymore.\n",
      "Instead of that, you need to install the OpenMP library, which is required for running LightGBM on the system with the Apple Clang compiler.\n",
      "You can install the OpenMP library by the following command: ``brew install libomp``.\n",
      "  \"You can install the OpenMP library by the following command: ``brew install libomp``.\", UserWarning)\n"
     ]
    }
   ],
   "source": [
    "from sklearn.linear_model import ElasticNet, Lasso,  BayesianRidge, LassoLarsIC\n",
    "from sklearn.ensemble import RandomForestRegressor,  GradientBoostingRegressor\n",
    "from sklearn.kernel_ridge import KernelRidge\n",
    "from sklearn.pipeline import make_pipeline\n",
    "from sklearn.preprocessing import RobustScaler\n",
    "from sklearn.base import BaseEstimator, TransformerMixin, RegressorMixin, clone\n",
    "from sklearn.model_selection import KFold, cross_val_score, train_test_split\n",
    "from sklearn.metrics import mean_squared_error\n",
    "import xgboost as xgb\n",
    "import lightgbm as lgb"
   ]
  },
  {
   "cell_type": "code",
   "execution_count": 49,
   "metadata": {},
   "outputs": [],
   "source": [
    "# Cross-validation with k-folds\n",
    "n_folds = 5\n",
    "\n",
    "def rmsle_cv(model):\n",
    "    kf = KFold(n_folds, shuffle=True, random_state=42).get_n_splits(train.values)\n",
    "    rmse= np.sqrt(-cross_val_score(model, train.values, y_train, scoring=\"neg_mean_squared_error\", cv = kf))\n",
    "    return(rmse)"
   ]
  },
  {
   "cell_type": "code",
   "execution_count": 50,
   "metadata": {},
   "outputs": [],
   "source": [
    "lasso = make_pipeline(RobustScaler(), Lasso(alpha =0.0005, random_state=1))\n",
    "ENet = make_pipeline(RobustScaler(), ElasticNet(alpha=0.0005, l1_ratio=.9, random_state=3))\n",
    "KRR = KernelRidge(alpha=0.6, kernel='polynomial', degree=2, coef0=2.5)\n",
    "GBoost = GradientBoostingRegressor(n_estimators=3000, learning_rate=0.05,\n",
    "                                   max_depth=4, max_features='sqrt',\n",
    "                                   min_samples_leaf=15, min_samples_split=10, \n",
    "                                   loss='huber', random_state =5)\n",
    "model_xgb = xgb.XGBRegressor(colsample_bytree=0.2, gamma=0.0, \n",
    "                             learning_rate=0.05, max_depth=6, \n",
    "                             min_child_weight=1.5, n_estimators=7200,\n",
    "                             reg_alpha=0.9, reg_lambda=0.6,\n",
    "                             subsample=0.2,seed=42, silent=1,\n",
    "                             random_state =7)\n",
    "model_lgb = lgb.LGBMRegressor(objective='regression',num_leaves=5,\n",
    "                              learning_rate=0.05, n_estimators=720,\n",
    "                              max_bin = 55, bagging_fraction = 0.8,\n",
    "                              bagging_freq = 5, feature_fraction = 0.2319,\n",
    "                              feature_fraction_seed=9, bagging_seed=9,\n",
    "                              min_data_in_leaf =6, min_sum_hessian_in_leaf = 11)"
   ]
  },
  {
   "cell_type": "code",
   "execution_count": 51,
   "metadata": {},
   "outputs": [
    {
     "name": "stdout",
     "output_type": "stream",
     "text": [
      "\n",
      "Lasso score: 0.4819 (0.0597)\n",
      "\n",
      "ElasticNet score: 0.4820 (0.0598)\n",
      "\n",
      "Kernel Ridge score: 0.4815 (0.0640)\n",
      "\n",
      "Gradient Boosting score: 0.5072 (0.0454)\n",
      "\n",
      "Xgboost score: 0.5030 (0.0429)\n",
      "\n",
      "LGBM score: 0.4881 (0.0557)\n",
      "\n"
     ]
    }
   ],
   "source": [
    "score = rmsle_cv(lasso)\n",
    "print(\"\\nLasso score: {:.4f} ({:.4f})\\n\".format(score.mean(), score.std()))\n",
    "score = rmsle_cv(ENet)\n",
    "print(\"ElasticNet score: {:.4f} ({:.4f})\\n\".format(score.mean(), score.std()))\n",
    "score = rmsle_cv(KRR)\n",
    "print(\"Kernel Ridge score: {:.4f} ({:.4f})\\n\".format(score.mean(), score.std()))\n",
    "score = rmsle_cv(GBoost)\n",
    "print(\"Gradient Boosting score: {:.4f} ({:.4f})\\n\".format(score.mean(), score.std()))\n",
    "score = rmsle_cv(model_xgb)\n",
    "print(\"Xgboost score: {:.4f} ({:.4f})\\n\".format(score.mean(), score.std()))\n",
    "score = rmsle_cv(model_lgb)\n",
    "print(\"LGBM score: {:.4f} ({:.4f})\\n\" .format(score.mean(), score.std()))"
   ]
  },
  {
   "cell_type": "code",
   "execution_count": 52,
   "metadata": {},
   "outputs": [],
   "source": [
    "class AveragingModels(BaseEstimator, RegressorMixin, TransformerMixin):\n",
    "    def __init__(self, models):\n",
    "        self.models = models\n",
    "        \n",
    "    # we define clones of the original models to fit the data in\n",
    "    def fit(self, X, y):\n",
    "        self.models_ = [clone(x) for x in self.models]\n",
    "        \n",
    "        # Train cloned base models\n",
    "        for model in self.models_:\n",
    "            model.fit(X, y)\n",
    "\n",
    "        return self\n",
    "    \n",
    "    #Now we do the predictions for cloned models and average them\n",
    "    def predict(self, X):\n",
    "        predictions = np.column_stack([\n",
    "            model.predict(X) for model in self.models_\n",
    "        ])\n",
    "        return np.mean(predictions, axis=1)  "
   ]
  },
  {
   "cell_type": "code",
   "execution_count": 53,
   "metadata": {},
   "outputs": [
    {
     "name": "stdout",
     "output_type": "stream",
     "text": [
      "Averaged base models score: 0.4709 (0.0598)\n",
      "\n"
     ]
    }
   ],
   "source": [
    "averaged_models = AveragingModels(models = (ENet, GBoost, KRR, lasso))\n",
    "\n",
    "score = rmsle_cv(averaged_models)\n",
    "print(\"Averaged base models score: {:.4f} ({:.4f})\\n\".format(score.mean(), score.std()))"
   ]
  },
  {
   "cell_type": "code",
   "execution_count": 54,
   "metadata": {},
   "outputs": [],
   "source": [
    "class StackingAveragedModels(BaseEstimator, RegressorMixin, TransformerMixin):\n",
    "    def __init__(self, base_models, meta_model, n_folds=5):\n",
    "        self.base_models = base_models\n",
    "        self.meta_model = meta_model\n",
    "        self.n_folds = n_folds\n",
    "   \n",
    "    # We again fit the data on clones of the original models\n",
    "    def fit(self, X, y):\n",
    "        self.base_models_ = [list() for x in self.base_models]\n",
    "        self.meta_model_ = clone(self.meta_model)\n",
    "        kfold = KFold(n_splits=self.n_folds, shuffle=True)\n",
    "        \n",
    "        # Train cloned base models then create out-of-fold predictions\n",
    "        # that are needed to train the cloned meta-model\n",
    "        out_of_fold_predictions = np.zeros((X.shape[0], len(self.base_models)))\n",
    "        for i, clf in enumerate(self.base_models):\n",
    "            for train_index, holdout_index in kfold.split(X, y):\n",
    "                instance = clone(clf)\n",
    "                self.base_models_[i].append(instance)\n",
    "                instance.fit(X[train_index], y[train_index])\n",
    "                y_pred = instance.predict(X[holdout_index])\n",
    "                out_of_fold_predictions[holdout_index, i] = y_pred\n",
    "                \n",
    "        # Now train the cloned  meta-model using the out-of-fold predictions\n",
    "        self.meta_model_.fit(out_of_fold_predictions, y)\n",
    "        return self\n",
    "   \n",
    "    def predict(self, X):\n",
    "        meta_features = np.column_stack([\n",
    "            np.column_stack([model.predict(X) for model in base_models]).mean(axis=1)\n",
    "            for base_models in self.base_models_ ])\n",
    "        return self.meta_model_.predict(meta_features)"
   ]
  },
  {
   "cell_type": "code",
   "execution_count": 55,
   "metadata": {},
   "outputs": [
    {
     "name": "stdout",
     "output_type": "stream",
     "text": [
      "Stacking Averaged models score: 0.4714 (0.0596)\n"
     ]
    }
   ],
   "source": [
    "stacked_averaged_models = StackingAveragedModels(base_models = (ENet, GBoost, KRR),\n",
    "                                                 meta_model = lasso)\n",
    "\n",
    "score = rmsle_cv(stacked_averaged_models)\n",
    "print(\"Stacking Averaged models score: {:.4f} ({:.4f})\".format(score.mean(), score.std()))"
   ]
  },
  {
   "cell_type": "code",
   "execution_count": 56,
   "metadata": {},
   "outputs": [],
   "source": [
    "def rmsle(y, y_pred):\n",
    "    return np.sqrt(mean_squared_error(y, y_pred))"
   ]
  },
  {
   "cell_type": "code",
   "execution_count": 57,
   "metadata": {
    "scrolled": true
   },
   "outputs": [
    {
     "data": {
      "text/plain": [
       "Index(['Gender', 'Loan', 'Purpose', 'Regularity', 'Salary', 'Saving Account',\n",
       "       'Status', 'account_info', 'age', 'credits_no', 'duration_month',\n",
       "       'employment_st', 'foreigner', 'gurantors', 'housing_type',\n",
       "       'installment_type', 'investment', 'job_type', 'liables',\n",
       "       'property_type', 'resident_since', 'savings_account', 'telephone'],\n",
       "      dtype='object')"
      ]
     },
     "execution_count": 57,
     "metadata": {},
     "output_type": "execute_result"
    }
   ],
   "source": [
    "train.columns"
   ]
  },
  {
   "cell_type": "code",
   "execution_count": 58,
   "metadata": {},
   "outputs": [
    {
     "data": {
      "text/html": [
       "<div>\n",
       "<style scoped>\n",
       "    .dataframe tbody tr th:only-of-type {\n",
       "        vertical-align: middle;\n",
       "    }\n",
       "\n",
       "    .dataframe tbody tr th {\n",
       "        vertical-align: top;\n",
       "    }\n",
       "\n",
       "    .dataframe thead th {\n",
       "        text-align: right;\n",
       "    }\n",
       "</style>\n",
       "<table border=\"1\" class=\"dataframe\">\n",
       "  <thead>\n",
       "    <tr style=\"text-align: right;\">\n",
       "      <th></th>\n",
       "      <th>Gender</th>\n",
       "      <th>Loan</th>\n",
       "      <th>Purpose</th>\n",
       "      <th>Regularity</th>\n",
       "      <th>Salary</th>\n",
       "      <th>Saving Account</th>\n",
       "      <th>Status</th>\n",
       "      <th>account_info</th>\n",
       "      <th>age</th>\n",
       "      <th>credits_no</th>\n",
       "      <th>...</th>\n",
       "      <th>gurantors</th>\n",
       "      <th>housing_type</th>\n",
       "      <th>installment_type</th>\n",
       "      <th>investment</th>\n",
       "      <th>job_type</th>\n",
       "      <th>liables</th>\n",
       "      <th>property_type</th>\n",
       "      <th>resident_since</th>\n",
       "      <th>savings_account</th>\n",
       "      <th>telephone</th>\n",
       "    </tr>\n",
       "  </thead>\n",
       "  <tbody>\n",
       "    <tr>\n",
       "      <th>700</th>\n",
       "      <td>1.000000</td>\n",
       "      <td>1.730463</td>\n",
       "      <td>1.000000</td>\n",
       "      <td>1.730463</td>\n",
       "      <td>13.482863</td>\n",
       "      <td>11.357200</td>\n",
       "      <td>1.000000</td>\n",
       "      <td>2.194318</td>\n",
       "      <td>5.437269</td>\n",
       "      <td>1.730463</td>\n",
       "      <td>...</td>\n",
       "      <td>1.0</td>\n",
       "      <td>1.000000</td>\n",
       "      <td>2.194318</td>\n",
       "      <td>6.186387</td>\n",
       "      <td>1.730463</td>\n",
       "      <td>1.730463</td>\n",
       "      <td>2.194318</td>\n",
       "      <td>2.820334</td>\n",
       "      <td>2.194318</td>\n",
       "      <td>1.000000</td>\n",
       "    </tr>\n",
       "    <tr>\n",
       "      <th>701</th>\n",
       "      <td>1.730463</td>\n",
       "      <td>1.730463</td>\n",
       "      <td>1.000000</td>\n",
       "      <td>1.000000</td>\n",
       "      <td>12.449076</td>\n",
       "      <td>4.701973</td>\n",
       "      <td>2.194318</td>\n",
       "      <td>1.000000</td>\n",
       "      <td>6.210789</td>\n",
       "      <td>2.194318</td>\n",
       "      <td>...</td>\n",
       "      <td>1.0</td>\n",
       "      <td>2.194318</td>\n",
       "      <td>2.194318</td>\n",
       "      <td>5.562032</td>\n",
       "      <td>2.194318</td>\n",
       "      <td>1.730463</td>\n",
       "      <td>2.540963</td>\n",
       "      <td>2.820334</td>\n",
       "      <td>1.000000</td>\n",
       "      <td>1.730463</td>\n",
       "    </tr>\n",
       "    <tr>\n",
       "      <th>702</th>\n",
       "      <td>1.000000</td>\n",
       "      <td>1.730463</td>\n",
       "      <td>1.000000</td>\n",
       "      <td>1.730463</td>\n",
       "      <td>13.599768</td>\n",
       "      <td>10.647633</td>\n",
       "      <td>1.000000</td>\n",
       "      <td>1.730463</td>\n",
       "      <td>6.248357</td>\n",
       "      <td>1.730463</td>\n",
       "      <td>...</td>\n",
       "      <td>1.0</td>\n",
       "      <td>2.194318</td>\n",
       "      <td>2.194318</td>\n",
       "      <td>6.257275</td>\n",
       "      <td>2.194318</td>\n",
       "      <td>1.730463</td>\n",
       "      <td>2.540963</td>\n",
       "      <td>2.194318</td>\n",
       "      <td>1.730463</td>\n",
       "      <td>1.730463</td>\n",
       "    </tr>\n",
       "    <tr>\n",
       "      <th>703</th>\n",
       "      <td>1.730463</td>\n",
       "      <td>1.730463</td>\n",
       "      <td>2.820334</td>\n",
       "      <td>1.000000</td>\n",
       "      <td>12.682968</td>\n",
       "      <td>10.222126</td>\n",
       "      <td>2.194318</td>\n",
       "      <td>2.540963</td>\n",
       "      <td>6.012077</td>\n",
       "      <td>2.194318</td>\n",
       "      <td>...</td>\n",
       "      <td>1.0</td>\n",
       "      <td>1.730463</td>\n",
       "      <td>1.730463</td>\n",
       "      <td>5.702848</td>\n",
       "      <td>2.194318</td>\n",
       "      <td>1.730463</td>\n",
       "      <td>1.730463</td>\n",
       "      <td>2.194318</td>\n",
       "      <td>1.730463</td>\n",
       "      <td>1.000000</td>\n",
       "    </tr>\n",
       "    <tr>\n",
       "      <th>704</th>\n",
       "      <td>1.000000</td>\n",
       "      <td>1.730463</td>\n",
       "      <td>2.820334</td>\n",
       "      <td>1.730463</td>\n",
       "      <td>12.793857</td>\n",
       "      <td>4.530419</td>\n",
       "      <td>1.000000</td>\n",
       "      <td>2.540963</td>\n",
       "      <td>5.597157</td>\n",
       "      <td>1.730463</td>\n",
       "      <td>...</td>\n",
       "      <td>1.0</td>\n",
       "      <td>1.730463</td>\n",
       "      <td>2.194318</td>\n",
       "      <td>5.769708</td>\n",
       "      <td>2.194318</td>\n",
       "      <td>2.194318</td>\n",
       "      <td>1.730463</td>\n",
       "      <td>1.730463</td>\n",
       "      <td>1.000000</td>\n",
       "      <td>1.730463</td>\n",
       "    </tr>\n",
       "  </tbody>\n",
       "</table>\n",
       "<p>5 rows × 23 columns</p>\n",
       "</div>"
      ],
      "text/plain": [
       "       Gender      Loan   Purpose  Regularity     Salary  Saving Account  \\\n",
       "700  1.000000  1.730463  1.000000    1.730463  13.482863       11.357200   \n",
       "701  1.730463  1.730463  1.000000    1.000000  12.449076        4.701973   \n",
       "702  1.000000  1.730463  1.000000    1.730463  13.599768       10.647633   \n",
       "703  1.730463  1.730463  2.820334    1.000000  12.682968       10.222126   \n",
       "704  1.000000  1.730463  2.820334    1.730463  12.793857        4.530419   \n",
       "\n",
       "       Status  account_info       age  credits_no  ...  gurantors  \\\n",
       "700  1.000000      2.194318  5.437269    1.730463  ...        1.0   \n",
       "701  2.194318      1.000000  6.210789    2.194318  ...        1.0   \n",
       "702  1.000000      1.730463  6.248357    1.730463  ...        1.0   \n",
       "703  2.194318      2.540963  6.012077    2.194318  ...        1.0   \n",
       "704  1.000000      2.540963  5.597157    1.730463  ...        1.0   \n",
       "\n",
       "     housing_type  installment_type  investment  job_type   liables  \\\n",
       "700      1.000000          2.194318    6.186387  1.730463  1.730463   \n",
       "701      2.194318          2.194318    5.562032  2.194318  1.730463   \n",
       "702      2.194318          2.194318    6.257275  2.194318  1.730463   \n",
       "703      1.730463          1.730463    5.702848  2.194318  1.730463   \n",
       "704      1.730463          2.194318    5.769708  2.194318  2.194318   \n",
       "\n",
       "     property_type  resident_since  savings_account  telephone  \n",
       "700       2.194318        2.820334         2.194318   1.000000  \n",
       "701       2.540963        2.820334         1.000000   1.730463  \n",
       "702       2.540963        2.194318         1.730463   1.730463  \n",
       "703       1.730463        2.194318         1.730463   1.000000  \n",
       "704       1.730463        1.730463         1.000000   1.730463  \n",
       "\n",
       "[5 rows x 23 columns]"
      ]
     },
     "execution_count": 58,
     "metadata": {},
     "output_type": "execute_result"
    }
   ],
   "source": [
    "test.head(5)"
   ]
  },
  {
   "cell_type": "markdown",
   "metadata": {},
   "source": [
    "### Stacked models"
   ]
  },
  {
   "cell_type": "code",
   "execution_count": 59,
   "metadata": {},
   "outputs": [
    {
     "name": "stdout",
     "output_type": "stream",
     "text": [
      "0.3425726959599476\n"
     ]
    }
   ],
   "source": [
    "stacked_averaged_models.fit(train.values, y_train)\n",
    "stacked_train_pred = stacked_averaged_models.predict(train.values)\n",
    "stacked_pred = np.expm1(stacked_averaged_models.predict(test.values))\n",
    "print(rmsle(y_train, stacked_train_pred))"
   ]
  },
  {
   "cell_type": "markdown",
   "metadata": {},
   "source": [
    "### XGBoost"
   ]
  },
  {
   "cell_type": "code",
   "execution_count": 60,
   "metadata": {},
   "outputs": [
    {
     "name": "stdout",
     "output_type": "stream",
     "text": [
      "0.12200824722318016\n"
     ]
    }
   ],
   "source": [
    "model_xgb.fit(train, y_train)\n",
    "xgb_train_pred = model_xgb.predict(train)\n",
    "xgb_pred = np.expm1(model_xgb.predict(test))\n",
    "print(rmsle(y_train, xgb_train_pred))"
   ]
  },
  {
   "cell_type": "markdown",
   "metadata": {},
   "source": [
    "### LightGBM"
   ]
  },
  {
   "cell_type": "code",
   "execution_count": 61,
   "metadata": {},
   "outputs": [
    {
     "name": "stdout",
     "output_type": "stream",
     "text": [
      "0.31366339798676696\n"
     ]
    }
   ],
   "source": [
    "model_lgb.fit(train, y_train)\n",
    "lgb_train_pred = model_lgb.predict(train)\n",
    "lgb_pred = np.expm1(model_lgb.predict(test.values))\n",
    "print(rmsle(y_train, lgb_train_pred))"
   ]
  },
  {
   "cell_type": "code",
   "execution_count": 62,
   "metadata": {},
   "outputs": [
    {
     "name": "stdout",
     "output_type": "stream",
     "text": [
      "RMSLE score on train data:\n",
      "0.30770121329885447\n"
     ]
    }
   ],
   "source": [
    "'''RMSE on the entire Train data when averaging'''\n",
    "\n",
    "print('RMSLE score on train data:')\n",
    "print(rmsle(y_train,stacked_train_pred*0.70 +\n",
    "               xgb_train_pred*0.10 + lgb_train_pred*0.20 ))"
   ]
  },
  {
   "cell_type": "markdown",
   "metadata": {},
   "source": [
    "### Ensemble Prediction"
   ]
  },
  {
   "cell_type": "code",
   "execution_count": 63,
   "metadata": {},
   "outputs": [
    {
     "name": "stdout",
     "output_type": "stream",
     "text": [
      "0.3444756700973416 0.32283465384470544 0.33268967605795297\n"
     ]
    }
   ],
   "source": [
    "# Example\n",
    "Stacked = 1/(0.4714)\n",
    "XGBoost = 1/(0.5030)\n",
    "LGBM = 1/(0.4881)\n",
    "Sum = Stacked + XGBoost + LGBM\n",
    "Stacked = Stacked/Sum\n",
    "XGBoost = XGBoost/Sum\n",
    "LGBM = LGBM/Sum\n",
    "print(Stacked, XGBoost, LGBM)"
   ]
  },
  {
   "cell_type": "code",
   "execution_count": 64,
   "metadata": {},
   "outputs": [
    {
     "name": "stdout",
     "output_type": "stream",
     "text": [
      "RMSLE score on train data:\n",
      "0.2503784769208693\n"
     ]
    }
   ],
   "source": [
    "'''RMSE on the entire Train data when averaging'''\n",
    "\n",
    "print('RMSLE score on train data:')\n",
    "print(rmsle(y_train,stacked_train_pred*Stacked +\n",
    "               xgb_train_pred*XGBoost + lgb_train_pred*LGBM))"
   ]
  },
  {
   "cell_type": "code",
   "execution_count": 65,
   "metadata": {},
   "outputs": [],
   "source": [
    "ensemble = stacked_pred*Stacked + xgb_pred*XGBoost + lgb_pred*LGBM"
   ]
  },
  {
   "cell_type": "markdown",
   "metadata": {},
   "source": [
    "### Submission"
   ]
  },
  {
   "cell_type": "code",
   "execution_count": 66,
   "metadata": {},
   "outputs": [],
   "source": [
    "sub = pd.DataFrame()\n",
    "sub['S.no'] = test_sn\n",
    "sub['credit_amount'] = ensemble.round()\n",
    "sub.to_csv('credit1.csv',index=False)"
   ]
  },
  {
   "cell_type": "code",
   "execution_count": null,
   "metadata": {},
   "outputs": [],
   "source": []
  }
 ],
 "metadata": {
  "kernelspec": {
   "display_name": "Python 3",
   "language": "python",
   "name": "python3"
  },
  "language_info": {
   "codemirror_mode": {
    "name": "ipython",
    "version": 3
   },
   "file_extension": ".py",
   "mimetype": "text/x-python",
   "name": "python",
   "nbconvert_exporter": "python",
   "pygments_lexer": "ipython3",
   "version": "3.7.3"
  }
 },
 "nbformat": 4,
 "nbformat_minor": 2
}
